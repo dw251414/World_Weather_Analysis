{
 "cells": [
  {
   "cell_type": "code",
   "execution_count": 14,
   "id": "cda6d052",
   "metadata": {},
   "outputs": [],
   "source": [
    "# Import dependencies.\n",
    "import pandas as pd\n",
    "import numpy as np\n",
    "import matplotlib.pyplot as plt\n",
    "import gmaps\n",
    "import requests\n",
    "import json\n",
    "\n",
    "from config import g_key"
   ]
  },
  {
   "cell_type": "code",
   "execution_count": 36,
   "id": "6bda7ddf",
   "metadata": {},
   "outputs": [
    {
     "data": {
      "text/html": [
       "<div>\n",
       "<style scoped>\n",
       "    .dataframe tbody tr th:only-of-type {\n",
       "        vertical-align: middle;\n",
       "    }\n",
       "\n",
       "    .dataframe tbody tr th {\n",
       "        vertical-align: top;\n",
       "    }\n",
       "\n",
       "    .dataframe thead th {\n",
       "        text-align: right;\n",
       "    }\n",
       "</style>\n",
       "<table border=\"1\" class=\"dataframe\">\n",
       "  <thead>\n",
       "    <tr style=\"text-align: right;\">\n",
       "      <th></th>\n",
       "      <th>level_0</th>\n",
       "      <th>index</th>\n",
       "      <th>City_ID</th>\n",
       "      <th>City</th>\n",
       "      <th>Country</th>\n",
       "      <th>Max Temp</th>\n",
       "      <th>Current Description</th>\n",
       "      <th>Lat</th>\n",
       "      <th>Lng</th>\n",
       "      <th>Hotel Name</th>\n",
       "    </tr>\n",
       "  </thead>\n",
       "  <tbody>\n",
       "    <tr>\n",
       "      <th>0</th>\n",
       "      <td>5</td>\n",
       "      <td>170</td>\n",
       "      <td>348</td>\n",
       "      <td>Tateyama</td>\n",
       "      <td>JP</td>\n",
       "      <td>78.15</td>\n",
       "      <td>clear sky</td>\n",
       "      <td>34.9833</td>\n",
       "      <td>139.8667</td>\n",
       "      <td>Tateyama Seaside Hotel</td>\n",
       "    </tr>\n",
       "    <tr>\n",
       "      <th>1</th>\n",
       "      <td>6</td>\n",
       "      <td>253</td>\n",
       "      <td>505</td>\n",
       "      <td>Nagai</td>\n",
       "      <td>JP</td>\n",
       "      <td>71.35</td>\n",
       "      <td>few clouds</td>\n",
       "      <td>38.1036</td>\n",
       "      <td>140.0350</td>\n",
       "      <td>土田旅館</td>\n",
       "    </tr>\n",
       "    <tr>\n",
       "      <th>2</th>\n",
       "      <td>7</td>\n",
       "      <td>163</td>\n",
       "      <td>333</td>\n",
       "      <td>Katsuura</td>\n",
       "      <td>JP</td>\n",
       "      <td>77.23</td>\n",
       "      <td>clear sky</td>\n",
       "      <td>35.1333</td>\n",
       "      <td>140.3000</td>\n",
       "      <td>Katsuura Hotel Mikazuki</td>\n",
       "    </tr>\n",
       "    <tr>\n",
       "      <th>3</th>\n",
       "      <td>8</td>\n",
       "      <td>96</td>\n",
       "      <td>207</td>\n",
       "      <td>Hasaki</td>\n",
       "      <td>JP</td>\n",
       "      <td>77.18</td>\n",
       "      <td>clear sky</td>\n",
       "      <td>35.7333</td>\n",
       "      <td>140.8333</td>\n",
       "      <td>Hotel Sunrise Choshi</td>\n",
       "    </tr>\n",
       "  </tbody>\n",
       "</table>\n",
       "</div>"
      ],
      "text/plain": [
       "   level_0  index  City_ID      City Country  Max Temp Current Description  \\\n",
       "0        5    170      348  Tateyama      JP     78.15           clear sky   \n",
       "1        6    253      505     Nagai      JP     71.35          few clouds   \n",
       "2        7    163      333  Katsuura      JP     77.23           clear sky   \n",
       "3        8     96      207    Hasaki      JP     77.18           clear sky   \n",
       "\n",
       "       Lat       Lng               Hotel Name  \n",
       "0  34.9833  139.8667   Tateyama Seaside Hotel  \n",
       "1  38.1036  140.0350                     土田旅館  \n",
       "2  35.1333  140.3000  Katsuura Hotel Mikazuki  \n",
       "3  35.7333  140.8333     Hotel Sunrise Choshi  "
      ]
     },
     "execution_count": 36,
     "metadata": {},
     "output_type": "execute_result"
    }
   ],
   "source": [
    "# Store the CSV you saved created in part one into a DataFrame.\n",
    "city_data_df = pd.read_csv(\"Vacation_Search/WeatherPy_vacation.csv\")\n",
    "city_data_df_sort = city_data_df.sort_values([\"Lng\"], ascending=True)\n",
    "#Selecting 4 cities that are close to each other\n",
    "cities_travel = city_data_df_sort[city_data_df_sort[\"Country\"] == 'JP']\n",
    "cities_travel = cities_travel.reset_index()[5:9]\n",
    "cities_travel = cities_travel.reset_index()\n",
    "cities_travel"
   ]
  },
  {
   "cell_type": "code",
   "execution_count": 37,
   "id": "8390fa5c",
   "metadata": {},
   "outputs": [
    {
     "data": {
      "text/plain": [
       "(35.7333, 140.8333)"
      ]
     },
     "execution_count": 37,
     "metadata": {},
     "output_type": "execute_result"
    }
   ],
   "source": [
    "city_a = (cities_travel.loc[0][\"Lat\"],cities_travel.loc[0][\"Lng\"])\n",
    "city_b = (cities_travel.loc[1][\"Lat\"],cities_travel.loc[1][\"Lng\"])\n",
    "city_c = (cities_travel.loc[2][\"Lat\"],cities_travel.loc[2][\"Lng\"])\n",
    "city_d = (cities_travel.loc[3][\"Lat\"],cities_travel.loc[3][\"Lng\"])\n",
    "\n",
    "city_a\n",
    "city_b\n",
    "city_c\n",
    "city_d"
   ]
  },
  {
   "cell_type": "code",
   "execution_count": 38,
   "id": "e34f75d7",
   "metadata": {},
   "outputs": [
    {
     "data": {
      "text/html": [
       "<div>\n",
       "<style scoped>\n",
       "    .dataframe tbody tr th:only-of-type {\n",
       "        vertical-align: middle;\n",
       "    }\n",
       "\n",
       "    .dataframe tbody tr th {\n",
       "        vertical-align: top;\n",
       "    }\n",
       "\n",
       "    .dataframe thead th {\n",
       "        text-align: right;\n",
       "    }\n",
       "</style>\n",
       "<table border=\"1\" class=\"dataframe\">\n",
       "  <thead>\n",
       "    <tr style=\"text-align: right;\">\n",
       "      <th></th>\n",
       "      <th>level_0</th>\n",
       "      <th>index</th>\n",
       "      <th>City_ID</th>\n",
       "      <th>City</th>\n",
       "      <th>Country</th>\n",
       "      <th>Max Temp</th>\n",
       "      <th>Current Description</th>\n",
       "      <th>Lat</th>\n",
       "      <th>Lng</th>\n",
       "      <th>Hotel Name</th>\n",
       "    </tr>\n",
       "  </thead>\n",
       "  <tbody>\n",
       "    <tr>\n",
       "      <th>0</th>\n",
       "      <td>5</td>\n",
       "      <td>170</td>\n",
       "      <td>348</td>\n",
       "      <td>Tateyama</td>\n",
       "      <td>JP</td>\n",
       "      <td>78.15</td>\n",
       "      <td>clear sky</td>\n",
       "      <td>34.9833</td>\n",
       "      <td>139.8667</td>\n",
       "      <td>Tateyama Seaside Hotel</td>\n",
       "    </tr>\n",
       "    <tr>\n",
       "      <th>1</th>\n",
       "      <td>6</td>\n",
       "      <td>253</td>\n",
       "      <td>505</td>\n",
       "      <td>Nagai</td>\n",
       "      <td>JP</td>\n",
       "      <td>71.35</td>\n",
       "      <td>few clouds</td>\n",
       "      <td>38.1036</td>\n",
       "      <td>140.0350</td>\n",
       "      <td>土田旅館</td>\n",
       "    </tr>\n",
       "    <tr>\n",
       "      <th>2</th>\n",
       "      <td>7</td>\n",
       "      <td>163</td>\n",
       "      <td>333</td>\n",
       "      <td>Katsuura</td>\n",
       "      <td>JP</td>\n",
       "      <td>77.23</td>\n",
       "      <td>clear sky</td>\n",
       "      <td>35.1333</td>\n",
       "      <td>140.3000</td>\n",
       "      <td>Katsuura Hotel Mikazuki</td>\n",
       "    </tr>\n",
       "    <tr>\n",
       "      <th>3</th>\n",
       "      <td>8</td>\n",
       "      <td>96</td>\n",
       "      <td>207</td>\n",
       "      <td>Hasaki</td>\n",
       "      <td>JP</td>\n",
       "      <td>77.18</td>\n",
       "      <td>clear sky</td>\n",
       "      <td>35.7333</td>\n",
       "      <td>140.8333</td>\n",
       "      <td>Hotel Sunrise Choshi</td>\n",
       "    </tr>\n",
       "  </tbody>\n",
       "</table>\n",
       "</div>"
      ],
      "text/plain": [
       "   level_0  index  City_ID      City Country  Max Temp Current Description  \\\n",
       "0        5    170      348  Tateyama      JP     78.15           clear sky   \n",
       "1        6    253      505     Nagai      JP     71.35          few clouds   \n",
       "2        7    163      333  Katsuura      JP     77.23           clear sky   \n",
       "3        8     96      207    Hasaki      JP     77.18           clear sky   \n",
       "\n",
       "       Lat       Lng               Hotel Name  \n",
       "0  34.9833  139.8667   Tateyama Seaside Hotel  \n",
       "1  38.1036  140.0350                     土田旅館  \n",
       "2  35.1333  140.3000  Katsuura Hotel Mikazuki  \n",
       "3  35.7333  140.8333     Hotel Sunrise Choshi  "
      ]
     },
     "execution_count": 38,
     "metadata": {},
     "output_type": "execute_result"
    }
   ],
   "source": [
    "selectedItenary_df = cities_travel[(cities_travel[\"City\"] == \"Tateyama\") | (cities_travel[\"City\"] == \"Nagai\") | (cities_travel[\"City\"] == \"Katsuura\") | (cities_travel[\"City\"] == \"Hasaki\")]  \n",
    "selectedItenary_df.append(cities_travel.loc[4:6])\n",
    "selectedItenary_df"
   ]
  },
  {
   "cell_type": "code",
   "execution_count": 39,
   "id": "e12cfc40",
   "metadata": {},
   "outputs": [
    {
     "name": "stdout",
     "output_type": "stream",
     "text": [
      "How do you want to travel? (driving/bicycling/walking) drive\n"
     ]
    }
   ],
   "source": [
    "travel = str(input(\"How do you want to travel? (driving/bicycling/walking) \"))\n",
    "travel = travel.upper()"
   ]
  },
  {
   "cell_type": "code",
   "execution_count": 40,
   "id": "b354501f",
   "metadata": {},
   "outputs": [
    {
     "data": {
      "application/vnd.jupyter.widget-view+json": {
       "model_id": "9dfb20f260eb417798ce5e0ecd73374f",
       "version_major": 2,
       "version_minor": 0
      },
      "text/plain": [
       "Figure(layout=FigureLayout(height='420px'))"
      ]
     },
     "metadata": {},
     "output_type": "display_data"
    }
   ],
   "source": [
    "import gmaps.datasets\n",
    "\n",
    "gmaps.configure(api_key=g_key)\n",
    "\n",
    "fig = gmaps.figure()\n",
    "\n",
    "city_a2city_d = gmaps.directions_layer(city_a, city_d, waypoints=[city_b, city_c],travel_mode='DRIVING')\n",
    "\n",
    "fig.add_layer(city_a2city_d)\n",
    "fig"
   ]
  },
  {
   "cell_type": "code",
   "execution_count": 41,
   "id": "1f008794",
   "metadata": {},
   "outputs": [
    {
     "data": {
      "application/vnd.jupyter.widget-view+json": {
       "model_id": "e947045856ca407a9bd9e21686bea373",
       "version_major": 2,
       "version_minor": 0
      },
      "text/plain": [
       "Figure(layout=FigureLayout(height='420px'))"
      ]
     },
     "metadata": {},
     "output_type": "display_data"
    }
   ],
   "source": [
    "import gmaps\n",
    "\n",
    "gmaps.configure(api_key=g_key)\n",
    "\n",
    "fig = gmaps.figure()\n",
    "\n",
    "#Adding markers.\n",
    "info_box_template = \"\"\"\n",
    "<dl>\n",
    "<dt>Hotel Name</dt><dd>{Hotel Name}</dd>\n",
    "<dt>City</dt><dd>{City}</dd>\n",
    "<dt>Country</dt><dd>{Country}</dd>\n",
    "<dt>Current Weather</dt><dd>{Current Description} and {Max Temp} °F</dd>\n",
    "</dl>\n",
    "\"\"\"\n",
    "# Store the DataFrame Row.\n",
    "hotel_info = [info_box_template.format(**row) for index, row in selectedItenary_df.iterrows()]\n",
    "\n",
    "#Create the marker for each city.\n",
    "locations = selectedItenary_df[[\"Lat\",\"Lng\"]]\n",
    "marker_layer = gmaps.marker_layer(locations, info_box_content=hotel_info)\n",
    "fig.add_layer(marker_layer)\n",
    "\n",
    "#direction Layer\n",
    "city_a2city_d = gmaps.directions_layer(city_a, city_d, waypoints=[city_b, city_c],travel_mode='DRIVING')\n",
    "fig.add_layer(city_a2city_d)\n",
    "fig"
   ]
  },
  {
   "cell_type": "code",
   "execution_count": 42,
   "id": "2f792bcc",
   "metadata": {},
   "outputs": [],
   "source": [
    "info_box_template = \"\"\"\n",
    "<dl>\n",
    "<dt>Hotel Name</dt><dd>{Hotel Name}</dd>\n",
    "<dt>City</dt><dd>{City}</dd>\n",
    "<dt>Country</dt><dd>{Country}</dd>\n",
    "<dt>Current Weather</dt><dd>{Current Description} and {Max Temp} °F</dd>\n",
    "</dl>\n",
    "\"\"\""
   ]
  },
  {
   "cell_type": "code",
   "execution_count": 43,
   "id": "acf45e89",
   "metadata": {},
   "outputs": [],
   "source": [
    "# Store the DataFrame Row.\n",
    "hotel_info = [info_box_template.format(**row) for index, row in cities_travel.iterrows()]"
   ]
  },
  {
   "cell_type": "code",
   "execution_count": 44,
   "id": "2fe894b7",
   "metadata": {},
   "outputs": [],
   "source": [
    "locations = cities_travel[[\"Lat\", \"Lng\"]]\n",
    "gmaps.configure(api_key=g_key)"
   ]
  },
  {
   "cell_type": "code",
   "execution_count": 45,
   "id": "2ff260ea",
   "metadata": {},
   "outputs": [
    {
     "data": {
      "application/vnd.jupyter.widget-view+json": {
       "model_id": "81d07f124cb145258f5aec985978a853",
       "version_major": 2,
       "version_minor": 0
      },
      "text/plain": [
       "Figure(layout=FigureLayout(height='420px'))"
      ]
     },
     "metadata": {},
     "output_type": "display_data"
    }
   ],
   "source": [
    "# Add a heatmap of temperature for the vacation spots and a pop-up marker for each city.\n",
    "locations = cities_travel[[\"Lat\", \"Lng\"]]\n",
    "#max_temp = hotel_df[\"Max Temp\"]\n",
    "fig = gmaps.figure()\n",
    "marker_layer = gmaps.marker_layer(locations, info_box_content=hotel_info)\n",
    "fig.add_layer(marker_layer)\n",
    "city1 = tuple(locations.iloc[0])\n",
    "city2 = tuple(locations.iloc[1])\n",
    "city3 = tuple(locations.iloc[2])\n",
    "city4 = tuple(locations.iloc[3])\n",
    "route = gmaps.directions_layer(\n",
    "        city1, city4, waypoints=[city2,city3],\n",
    "        travel_mode='DRIVING',\n",
    "        show_markers=False)\n",
    "fig.add_layer(route)\n",
    "# Call the figure to plot the data.\n",
    "fig"
   ]
  },
  {
   "cell_type": "code",
   "execution_count": null,
   "id": "65ee5380",
   "metadata": {},
   "outputs": [],
   "source": []
  }
 ],
 "metadata": {
  "kernelspec": {
   "display_name": "Python 3.9.2 64-bit ('PythonData': conda)",
   "language": "python",
   "name": "python392jvsc74a57bd0c232aad1e2172737c9835cc85844e30fa929da84238599720a361e42ccfa2fe9"
  },
  "language_info": {
   "codemirror_mode": {
    "name": "ipython",
    "version": 3
   },
   "file_extension": ".py",
   "mimetype": "text/x-python",
   "name": "python",
   "nbconvert_exporter": "python",
   "pygments_lexer": "ipython3",
   "version": "3.7.10"
  }
 },
 "nbformat": 4,
 "nbformat_minor": 5
}
